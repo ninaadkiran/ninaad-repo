{
 "cells": [
  {
   "attachments": {},
   "cell_type": "markdown",
   "metadata": {},
   "source": [
    "---\n",
    "layout: post\n",
    "title: Linux Shell and Bash\n",
    "description: Explanation Linux and the Bash shell.\n",
    "toc: true\n",
    "comments: false\n",
    "courses: { csp: {week: 1} }\n",
    "type: devops\n",
    "---"
   ]
  },
  {
   "cell_type": "markdown",
   "metadata": {},
   "source": [
    "# cd (Change Directory):\n",
    "\n",
    "Used to change the current working directory in a Linux terminal. You specify the directory you want to change to as an argument.\n",
    "Example: cd /home/user/documents will change the current directory to \"/home/user/documents.\"\n",
    "\n",
    "# ls (List):\n",
    "\n",
    "Used to list the files and directories in the current directory.\n",
    "Example: ls will display a list of files and directories in the current directory.\n",
    "\n",
    "# make:\n",
    "\n",
    "Used to build and compile programs from source code using a Makefile: It automates a compilation process.\n",
    " \n",
    "# git pull:\n",
    "\n",
    "Used to fetch changes from a remote repository and merge them into the current branch.\n",
    "\n",
    "# clear:\n",
    "\n",
    "Clears all previous code in the terminal\n",
    "\n",
    "# mkdir:\n",
    "\n",
    "Used to create new directories\n",
    "\n",
    "\n",
    "\n"
   ]
  }
 ],
 "metadata": {
  "kernelspec": {
   "display_name": "Python 3.10.6 64-bit",
   "language": "python",
   "name": "python3"
  },
  "language_info": {
   "codemirror_mode": {
    "name": "ipython",
    "version": 3
   },
   "file_extension": ".py",
   "mimetype": "text/x-python",
   "name": "python",
   "nbconvert_exporter": "python",
   "pygments_lexer": "ipython3",
   "version": "3.10.12"
  },
  "vscode": {
   "interpreter": {
    "hash": "aee8b7b246df8f9039afb4144a1f6fd8d2ca17a180786b69acc140d282b71a49"
   }
  }
 },
 "nbformat": 4,
 "nbformat_minor": 2
}
