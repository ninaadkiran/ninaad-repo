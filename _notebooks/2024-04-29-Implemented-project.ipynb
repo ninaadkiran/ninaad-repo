{
 "cells": [
  {
   "cell_type": "markdown",
   "metadata": {},
   "source": [
    "---\n",
    "comments: true\n",
    "layout: post\n",
    "title: Plans for features for collegeboard submission\n",
    "description: Prep\n",
    "type: collab\n",
    "courses: { csp: {week: 45} }\n",
    "---"
   ]
  },
  {
   "cell_type": "markdown",
   "metadata": {},
   "source": [
    "Code for iteration\n",
    "\n",
    "- <iframe src=\"https://drive.google.com/file/d/1VZugdqFFiXAM_ETbnyRXUZa0V6eOj4z_/preview\" width=\"640\" height=\"480\" allow=\"autoplay\"></iframe>\n",
    "\n",
    "Demonstration of the code working\n",
    "\n",
    "- <iframe src=\"https://drive.google.com/file/d/1MXC5uMNKRZhXiR6dZ5EGGXHFB9KS2JLM/preview\" width=\"640\" height=\"480\" allow=\"autoplay\"></iframe>"
   ]
  }
 ],
 "metadata": {
  "language_info": {
   "name": "python"
  }
 },
 "nbformat": 4,
 "nbformat_minor": 2
}
