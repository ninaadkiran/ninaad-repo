{
 "cells": [
  {
   "cell_type": "markdown",
   "metadata": {},
   "source": [
    "---\n",
    "title: Using Javascript with HTML DOM\n",
    "hide: True\n",
    "description: DOM\n",
    "permalink: /basics/dom\n",
    "author: Ninaad Kiran\n",
    "---"
   ]
  },
  {
   "cell_type": "raw",
   "metadata": {},
   "source": [
    "{% include nav_basics.html %}\n"
   ]
  },
  {
   "cell_type": "markdown",
   "metadata": {},
   "source": [
    "# ccc\n",
    "- Copy your HTML code from the HTML ccc. Write a Javascript snippet to switch the links of the two a tags when a button is pressed. Once they are switched, change the inner HTML of the top p tag to the word \"switched!\""
   ]
  },
  {
   "cell_type": "code",
   "execution_count": 4,
   "metadata": {
    "vscode": {
     "languageId": "html"
    }
   },
   "outputs": [
    {
     "data": {
      "text/html": [
       "\n",
       "%%html\n",
       "\n",
       "<html>\n",
       "<head>\n",
       "</head>\n",
       "<body>\n",
       "<div>\n",
       "    <p><b>This is how you make text in a paragraph form</b></p>\n",
       "    <button onclick=\"switchlinks()\">Switch</button>\n",
       "</div>\n",
       "<br>\n",
       "<div>\n",
       "    <a id=\"aTag2\" href=\"https://nighthawkcoders.github.io/teacher/basics/html\"><i>Where I learned this</i></a>\n",
       "    <br>\n",
       "    <a id=\"aTag1\" href=\"https://www.w3schools.com/\"><i>One of the most helpful coding websites</i></a>\n",
       "    <p>The results should be shown above</p>\n",
       "</div>\n",
       "\n",
       "<script>\n",
       "  function switchlinks() {\n",
       "    var aTag1 = document.getElementById(\"aTag1\");\n",
       "    var aTag2 = document.getElementById(\"aTag2\");\n",
       "    var pTag1 = document.getElementById(\"pTag1\");\n",
       "\n",
       "    // Swap the href attributes\n",
       "    var tempHref = aTag1.href;\n",
       "    aTag1.href = aTag2.href;\n",
       "    aTag2.href = tempHref;\n",
       "\n",
       "    // Swap the text content\n",
       "    var aTag1Text = aTag1.innerHTML;\n",
       "    aTag1.innerHTML = aTag2.innerHTML;\n",
       "    aTag2.innerHTML = aTag1Text;\n",
       "\n",
       "    // Update the paragraph text\n",
       "    pTag1.innerHTML = \"Switched!\";\n",
       "  }\n",
       "</script>\n",
       "</body>\n",
       "</html>\n"
      ],
      "text/plain": [
       "<IPython.core.display.HTML object>"
      ]
     },
     "metadata": {},
     "output_type": "display_data"
    }
   ],
   "source": [
    "%%html\n",
    "\n",
    "%%html\n",
    "\n",
    "<html>\n",
    "<head>\n",
    "</head>\n",
    "<body>\n",
    "<div>\n",
    "    <p><b>This is how you make text in a paragraph form</b></p>\n",
    "    <button onclick=\"switchlinks()\">Switch</button>\n",
    "</div>\n",
    "<br>\n",
    "<div>\n",
    "    <a id=\"aTag2\" href=\"https://nighthawkcoders.github.io/teacher/basics/html\"><i>Where I learned this</i></a>\n",
    "    <br>\n",
    "    <a id=\"aTag1\" href=\"https://www.w3schools.com/\"><i>One of the most helpful coding websites</i></a>\n",
    "    <p>The results should be shown above</p>\n",
    "</div>\n",
    "\n",
    "<script>\n",
    "  function switchlinks() {\n",
    "    var aTag1 = document.getElementById(\"aTag1\");\n",
    "    var aTag2 = document.getElementById(\"aTag2\");\n",
    "    var pTag1 = document.getElementById(\"pTag1\");\n",
    "\n",
    "    // Swap the href attributes\n",
    "    var tempHref = aTag1.href;\n",
    "    aTag1.href = aTag2.href;\n",
    "    aTag2.href = tempHref;\n",
    "\n",
    "    // Swap the text content\n",
    "    var aTag1Text = aTag1.innerHTML;\n",
    "    aTag1.innerHTML = aTag2.innerHTML;\n",
    "    aTag2.innerHTML = aTag1Text;\n",
    "\n",
    "    // Update the paragraph text\n",
    "    pTag1.innerHTML = \"Switched!\";\n",
    "  }\n",
    "</script>\n",
    "</body>\n",
    "</html>"
   ]
  },
  {
   "cell_type": "code",
   "execution_count": 5,
   "metadata": {
    "vscode": {
     "languageId": "html"
    }
   },
   "outputs": [
    {
     "data": {
      "text/html": [
       "\n",
       "<script src=\"https://utteranc.es/client.js\"\n",
       "        repo=\"ninaadkiran/Ninaad-Repository2\"\n",
       "        issue-term=\"pathname\"\n",
       "        theme=\"github-dark-orange\"\n",
       "        crossorigin=\"anonymous\"\n",
       "        async>\n",
       "</script>\n"
      ],
      "text/plain": [
       "<IPython.core.display.HTML object>"
      ]
     },
     "metadata": {},
     "output_type": "display_data"
    }
   ],
   "source": [
    "%%html\n",
    "\n",
    "<script src=\"https://utteranc.es/client.js\"\n",
    "        repo=\"ninaadkiran/Ninaad-Repository2\"\n",
    "        issue-term=\"pathname\"\n",
    "        theme=\"github-dark-orange\"\n",
    "        crossorigin=\"anonymous\"\n",
    "        async>\n",
    "</script>"
   ]
  }
 ],
 "metadata": {
  "kernelspec": {
   "display_name": "Python 3",
   "language": "python",
   "name": "python3"
  },
  "language_info": {
   "codemirror_mode": {
    "name": "ipython",
    "version": 3
   },
   "file_extension": ".py",
   "mimetype": "text/x-python",
   "name": "python",
   "nbconvert_exporter": "python",
   "pygments_lexer": "ipython3",
   "version": "3.10.12"
  },
  "orig_nbformat": 4
 },
 "nbformat": 4,
 "nbformat_minor": 2
}
