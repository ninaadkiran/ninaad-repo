{
 "cells": [
  {
   "cell_type": "markdown",
   "metadata": {},
   "source": [
    "---\n",
    "toc: true\n",
    "comments: true\n",
    "layout: notebook\n",
    "title: Python/Flask Model, Tools, Jinja2\n",
    "description: Team teach\n",
    "courses: { csp: {week: 19} }\n",
    "type: ccc\n",
    "---"
   ]
  },
  {
   "cell_type": "markdown",
   "metadata": {},
   "source": [
    "**Step 1: Setting up the Database**\n",
    "\n",
    "Run Migration Script:\n",
    "\n",
    "- Run ./migrate.sh to create, migrate, and initialize the database.\n",
    "- The script checks for necessary dependencies: sqlite3, python3, and Flask.\n",
    "- It initializes the migration directory if it doesn't exist and handles backup/restoration of the SQLite database."
   ]
  },
  {
   "cell_type": "code",
   "execution_count": null,
   "metadata": {},
   "outputs": [],
   "source": [
    "# Check if the migration directory exists\n",
    "if [ ! -d \"migrations\" ]; then\n",
    "    echo \"Initializing migration for the first time...\"\n",
    "    python3 -m flask db init\n",
    "fi\n",
    "\n",
    "# Check if sqlite.db does not exist and there is a sqlite-backup.db file\n",
    "if [ ! -e \"instance/volumes/sqlite.db\" ] && [ -e \"instance/volumes/sqlite-backup.db\" ]; then\n",
    "    echo \"No sqlite.db found, using sqlite-backup.db to generate the file.\"\n",
    "    \n",
    "    # Copy backup file to primary (sqlite.db)\n",
    "    cp \"instance/volumes/sqlite-backup.db\" \"instance/volumes/sqlite.db\"\n",
    "\n",
    "    # Extract the new Alembic version from the backup database\n",
    "    backup_version=$(sqlite3 instance/volumes/sqlite.db \"SELECT version_num FROM alembic_version;\")\n",
    "    echo \"Version ${backup_version} detected\"\n",
    "\n",
    "    python3 -m flask db stamp \"${backup_version}\"\n",
    "fi"
   ]
  },
  {
   "cell_type": "markdown",
   "metadata": {},
   "source": [
    "In this step, developers run the migration script to set up the database. The script initializes the migration directory if it's the first time, and it checks for the existence of the SQLite database. If the primary database doesn't exist but a backup is available, it restores from the backup and updates the Alembic version."
   ]
  },
  {
   "cell_type": "markdown",
   "metadata": {},
   "source": [
    "Step 2: Understanding the Code Structure\n",
    "\n",
    "Environment Variables:\n",
    "\n",
    "- Setting FLASK_APP=main as an environment variable informs Flask about the main entry point of the application. PYTHONPATH=.:$PYTHONPATH specifies additional directories for the Python interpreter to locate modules and packages in the current project directory, enhancing module discovery during execution. Together, these environment variables streamline the execution of the Flask application."
   ]
  },
  {
   "cell_type": "markdown",
   "metadata": {},
   "source": [
    "Setting environment variables ensures that Flask can locate the main application (main) and include the project directory (.) in the Python path."
   ]
  },
  {
   "cell_type": "markdown",
   "metadata": {},
   "source": [
    "**Dependency Checks:**"
   ]
  },
  {
   "cell_type": "code",
   "execution_count": null,
   "metadata": {},
   "outputs": [],
   "source": [
    "# Check if sqlite3 is installed\n",
    "if ! command -v sqlite3 &> /dev/null; then\n",
    "    echo \"Error: sqlite3 is not installed. Please install it before running this script.\"\n",
    "    exit 1\n",
    "fi\n",
    "\n",
    "# Check if python3 is installed\n",
    "if ! command -v python3 &> /dev/null; then\n",
    "    echo \"Error: python3 is not installed. Please install it before running this script.\"\n",
    "    exit 1\n",
    "fi\n",
    "\n",
    "# Check if Flask is installed\n",
    "if ! python3 -m flask --version &> /dev/null; then\n",
    "    echo \"Error: Flask is not installed. Please install it before running this script.\"\n",
    "    exit 1\n",
    "fi"
   ]
  },
  {
   "cell_type": "markdown",
   "metadata": {},
   "source": [
    "These checks ensure that essential dependencies (sqlite3, python3, and Flask) are installed before proceeding with the database setup."
   ]
  },
  {
   "cell_type": "markdown",
   "metadata": {},
   "source": [
    "**Initialization and Migration:**\n",
    "\n",
    "- The initialization of the migration directory involves checking if it exists; if not, the script initializes it using the command python3 -m flask db init. This directory is crucial for managing database migrations and storing version information.\n",
    "\n",
    "- Handle backup/restoration based on the existence of the SQLite database."
   ]
  },
  {
   "cell_type": "code",
   "execution_count": null,
   "metadata": {},
   "outputs": [],
   "source": [
    "# Check if the migration directory exists\n",
    "if [ ! -d \"migrations\" ]; then\n",
    "    echo \"Initializing migration for the first time...\"\n",
    "    python3 -m flask db init\n",
    "fi\n",
    "\n",
    "# Check if sqlite.db does not exist and there is a sqlite-backup.db file\n",
    "if [ ! -e \"instance/volumes/sqlite.db\" ] && [ -e \"instance/volumes/sqlite-backup.db\" ]; then\n",
    "    echo \"No sqlite.db found, using sqlite-backup.db to generate the file.\"\n",
    "    \n",
    "    # Copy backup file to primary (sqlite.db)\n",
    "    cp \"instance/volumes/sqlite-backup.db\" \"instance/volumes/sqlite.db\"\n",
    "\n",
    "    # Extract the new Alembic version from the backup database\n",
    "    backup_version=$(sqlite3 instance/volumes/sqlite.db \"SELECT version_num FROM alembic_version;\")\n",
    "    echo \"Version ${backup_version} detected\"\n",
    "\n",
    "    python3 -m flask db stamp \"${backup_version}\"\n",
    "fi"
   ]
  },
  {
   "cell_type": "markdown",
   "metadata": {},
   "source": [
    "This section handles the initialization of the migration directory if it's not present. It also checks for the existence of the SQLite database and, if necessary, restores from a backup, ensuring the database is in the correct state."
   ]
  },
  {
   "cell_type": "markdown",
   "metadata": {},
   "source": [
    "**Database Migrations:**\n",
    "\n",
    "- Running migrations involves executing the command python3 -m flask db migrate, which applies schema changes to the database. Subsequently, upgrading the database is achieved with python3 -m flask db upgrade, ensuring that the database structure is synchronized with the application's schema."
   ]
  },
  {
   "cell_type": "code",
   "execution_count": null,
   "metadata": {},
   "outputs": [],
   "source": [
    "# Perform database migrations\n",
    "python3 -m flask db migrate\n",
    "\n",
    "# Perform database upgrade\n",
    "python3 -m flask db upgrade\n",
    "\n",
    "# Run a custom command to generate data\n",
    "python3 -m flask custom generate_data"
   ]
  },
  {
   "cell_type": "markdown",
   "metadata": {},
   "source": [
    "These commands execute the database migrations to apply schema changes and then upgrade the database accordingly. Additionally, a custom command is run to generate initial data for the application."
   ]
  },
  {
   "cell_type": "markdown",
   "metadata": {},
   "source": [
    "**Object Oriented Code (OOP)**\n",
    "\n",
    "- Object-Oriented Programming (OOP) involves defining a User class that inherits from db.Model in the Flask-SQLAlchemy library. This class represents a User model with attributes such as id, username, and email. The use of classes and inheritance reflects key OOP principles, allowing developers to model entities in a structured and reusable manner. The db.Model provides a foundation for creating database models, and each instance of the User class corresponds to a record in the User table of the database."
   ]
  },
  {
   "cell_type": "code",
   "execution_count": null,
   "metadata": {},
   "outputs": [],
   "source": [
    "# File: main/models.py\n",
    "\n",
    "from flask_sqlalchemy import SQLAlchemy\n",
    "\n",
    "db = SQLAlchemy()\n",
    "\n",
    "class User(db.Model):\n",
    "    \"\"\"Example User model.\"\"\"\n",
    "    id = db.Column(db.Integer, primary_key=True)\n",
    "    username = db.Column(db.String(80), unique=True, nullable=False)\n",
    "    email = db.Column(db.String(120), unique=True, nullable=False)"
   ]
  },
  {
   "cell_type": "markdown",
   "metadata": {},
   "source": [
    "This defines a simple User model using Flask-SQLAlchemy, showcasing OOP principles. The User class represents a table in the database with columns for id, username, and email."
   ]
  },
  {
   "cell_type": "markdown",
   "metadata": {},
   "source": [
    "**SQLite Tables**\n",
    "\n",
    "- This snippet defines a simple User model using Flask-SQLAlchemy, showcasing OOP principles. The User class represents a table in the database with columns for id, username, and email."
   ]
  },
  {
   "cell_type": "code",
   "execution_count": null,
   "metadata": {},
   "outputs": [],
   "source": [
    "# File: main/models.py\n",
    "\n",
    "class User(db.Model):\n",
    "    \"\"\"Represents the User table in the SQLite database.\"\"\"\n",
    "    id = db.Column(db.Integer, primary_key=True)\n",
    "    username = db.Column(db.String(80), unique=True, nullable=False)\n",
    "    email = db.Column(db.String(120), unique=True, nullable=False)"
   ]
  },
  {
   "cell_type": "markdown",
   "metadata": {},
   "source": [
    "This showcases the definition of the User table, providing a clear representation of its structure through OOP principles. The use of db.Model facilitates the creation of database models, and each attribute corresponds to a column in the SQLite table."
   ]
  },
  {
   "cell_type": "markdown",
   "metadata": {},
   "source": [
    "**Data Generation:**\n",
    "\n",
    "- The custom_commands.py file introduces a custom command, GenerateDataCommand, responsible for populating the application's database with initial data. Running the command python3 -m flask custom generate_data executes the data generation logic defined in the run method of the custom command, simulating the creation of user data for the User table."
   ]
  },
  {
   "cell_type": "code",
   "execution_count": null,
   "metadata": {},
   "outputs": [],
   "source": [
    "# File: main/custom_commands.py\n",
    "\n",
    "import random\n",
    "import string\n",
    "from flask import current_app\n",
    "from flask_script import Command\n",
    "from .models import db, User\n",
    "\n",
    "fake = Faker()\n",
    "\n",
    "class GenerateDataCommand(Command):\n",
    "    \"\"\"Custom command to generate data for the application.\"\"\"\n",
    "    \n",
    "    def run(self):\n",
    "        \"\"\"Populates the database with initial data.\"\"\"\n",
    "        print(\"Generating data for the application...\")\n",
    "\n",
    "        # Generate and insert 10 fictional users\n",
    "        for _ in range(10):\n",
    "            username = self.generate_random_username()\n",
    "            email = fake.email()\n",
    "            password_hash = 'hashed_password'  # Use a secure password hashing method\n",
    "\n",
    "            # Create a new user instance\n",
    "            new_user = User(username=username, email=email, password_hash=password_hash)\n",
    "\n",
    "            # Add the user to the database\n",
    "            db.session.add(new_user)\n",
    "\n",
    "        # Commit the changes to the database\n",
    "        db.session.commit()\n",
    "\n",
    "        print(\"Data generation completed.\")\n",
    "\n",
    "    def generate_random_username(self):\n",
    "        \"\"\"Generate a random username.\"\"\"\n",
    "        return ''.join(random.choice(string.ascii_letters) for _ in range(8)).lower()\n",
    "\n",
    "# Register the custom command with Flask-Script\n",
    "current_app.cli.add_command(GenerateDataCommand())"
   ]
  },
  {
   "cell_type": "markdown",
   "metadata": {},
   "source": [
    "- The GenerateDataCommand class generates 10 fictional users with random usernames, email addresses, and a placeholder for the hashed password.\n",
    "- Each user is created as a User instance and added to the SQLAlchemy session using db.session.add(new_user).\n",
    "- Finally, the changes are committed to the database with db.session.commit()."
   ]
  }
 ],
 "metadata": {
  "language_info": {
   "name": "python"
  },
  "orig_nbformat": 4
 },
 "nbformat": 4,
 "nbformat_minor": 2
}
