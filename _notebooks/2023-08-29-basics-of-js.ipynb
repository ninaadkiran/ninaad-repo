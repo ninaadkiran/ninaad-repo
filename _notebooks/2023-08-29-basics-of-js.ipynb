{
 "cells": [
  {
   "cell_type": "markdown",
   "metadata": {},
   "source": [
    "---\n",
    "title: Basics of Javascript\n",
    "hide: True\n",
    "description: A Tech Talk on how to use javascript\n",
    "permalink: /basics/javascript\n",
    "author: Ninaad Kiran\n",
    "---"
   ]
  },
  {
   "cell_type": "raw",
   "metadata": {},
   "source": [
    "{% include nav_basics.html %}\n"
   ]
  },
  {
   "cell_type": "markdown",
   "metadata": {},
   "source": [
    "\n",
    "# How to use javascript in any of your pages\n",
    "- Simply add a ``<script></script>`` in your markdown or jupyter cells\n",
    "- (Note: the %%html magic command allows us to add HTML and JavaScript into a jupyter notebook, the outputted \"site\" will be shown below the code)"
   ]
  },
  {
   "cell_type": "markdown",
   "metadata": {},
   "source": [
    "# Writing text to console.log\n",
    "- The text written with `console.log` appears in the Console\n",
    "- `console.log` allows you to write text -- but you don't see any text in above example until you view Console.\n",
    "- Activate Console window\n",
    "    - VSCode Help-Toggle Developer Tools allows you to see console.log output\n",
    "    - Chrome and other browsers require right click -> inspect also allows access to console.log output\n",
    "        - Safari users will need to enable developer settings before inspecting an element. To do this go to Safari settings -> advanced and check the box next to \"Show develop menu in menu bar\"\n",
    "    - By default you usually need to click Console next to Elements, to see console.log output\n",
    "    - Also, you may want to press clear console (cirlcl with slash) to clean up screen before analysis. \n"
   ]
  },
  {
   "cell_type": "markdown",
   "metadata": {},
   "source": [
    "# ccc\n",
    "- Write a JavaScript program that compares two variables, a and b. Log \"a is greater\" if a is greater than b, \"b is greater\" if b is greater than a, and \"both are equal\" if a and b are equal. Make sure to use if statements and console.log"
   ]
  },
  {
   "cell_type": "code",
   "execution_count": 3,
   "metadata": {
    "vscode": {
     "languageId": "javascript"
    }
   },
   "outputs": [
    {
     "data": {
      "application/javascript": "\nvar a = 10;\nvar b = 5;\n\nif (a > b) {\n  console.log(\"A is greater\");\n} else if (b > a) {\n  console.log(\"B is greater\");\n} else {\n  console.log(\"They both are equal\");\n}\n",
      "text/plain": [
       "<IPython.core.display.Javascript object>"
      ]
     },
     "metadata": {},
     "output_type": "display_data"
    }
   ],
   "source": [
    "%%js\n",
    "\n",
    "var a = 10;\n",
    "var b = 5;\n",
    "\n",
    "if (a > b) {\n",
    "  console.log(\"A is greater\");\n",
    "} else if (b > a) {\n",
    "  console.log(\"B is greater\");\n",
    "} else {\n",
    "  console.log(\"They both are equal\");\n",
    "}\n"
   ]
  },
  {
   "cell_type": "code",
   "execution_count": 4,
   "metadata": {
    "vscode": {
     "languageId": "html"
    }
   },
   "outputs": [
    {
     "data": {
      "text/html": [
       "\n",
       "<script src=\"https://utteranc.es/client.js\"\n",
       "        repo=\"ninaadkiran/Ninaad-Repository2\"\n",
       "        issue-term=\"pathname\"\n",
       "        theme=\"github-dark-orange\"\n",
       "        crossorigin=\"anonymous\"\n",
       "        async>\n",
       "</script>\n"
      ],
      "text/plain": [
       "<IPython.core.display.HTML object>"
      ]
     },
     "metadata": {},
     "output_type": "display_data"
    }
   ],
   "source": [
    "%%html\n",
    "\n",
    "<script src=\"https://utteranc.es/client.js\"\n",
    "        repo=\"ninaadkiran/Ninaad-Repository2\"\n",
    "        issue-term=\"pathname\"\n",
    "        theme=\"github-dark-orange\"\n",
    "        crossorigin=\"anonymous\"\n",
    "        async>\n",
    "</script>"
   ]
  }
 ],
 "metadata": {
  "kernelspec": {
   "display_name": "Python 3",
   "language": "python",
   "name": "python3"
  },
  "language_info": {
   "codemirror_mode": {
    "name": "ipython",
    "version": 3
   },
   "file_extension": ".py",
   "mimetype": "text/x-python",
   "name": "python",
   "nbconvert_exporter": "python",
   "pygments_lexer": "ipython3",
   "version": "3.10.12"
  },
  "orig_nbformat": 4
 },
 "nbformat": 4,
 "nbformat_minor": 2
}
