{
 "cells": [
  {
   "cell_type": "markdown",
   "metadata": {},
   "source": [
    "---\n",
    "layout: post\n",
    "hide: False\n",
    "title: JS Basics\n",
    "description: An introduction to basic HTML, and resources to learn more.\n",
    "permalink: /basics/html\n",
    "author: Ninaad Kiran\n",
    "courses: { csp: {week: 6} }\n",
    "type: ccc\n",
    "---"
   ]
  },
  {
   "cell_type": "raw",
   "metadata": {},
   "source": [
    "{% include nav_basics.html %}\n"
   ]
  },
  {
   "cell_type": "markdown",
   "metadata": {},
   "source": [
    "![wireframe for html ccc]({{ site.baseurl }}/images/wireframe.png)"
   ]
  },
  {
   "cell_type": "code",
   "execution_count": 1,
   "metadata": {
    "vscode": {
     "languageId": "html"
    }
   },
   "outputs": [
    {
     "data": {
      "text/html": [
       "\n",
       "<div>\n",
       "    <p><b>This is a paragraph</b></p>\n",
       "    <button>This is a button</button>\n",
       "</div>\n",
       "\n",
       "<div>\n",
       "    <a href=\"https://nighthawkcoders.github.io/teacher/basics/html\"><i>Where I learned to do This</i></a>\n",
       "    <br>\n",
       "    <a href=\"https://www.w3schools.com/\"><i>One of the most helpful coding websites</i></a>\n",
       "    <p>The result should be shown above</p>\n",
       "</div>\n"
      ],
      "text/plain": [
       "<IPython.core.display.HTML object>"
      ]
     },
     "metadata": {},
     "output_type": "display_data"
    }
   ],
   "source": [
    "%%html\n",
    "\n",
    "<div>\n",
    "    <p><b>This is a paragraph</b></p>\n",
    "    <button>This is a button</button>\n",
    "</div>\n",
    "\n",
    "<div>\n",
    "    <a href=\"https://nighthawkcoders.github.io/teacher/basics/html\"><i>Where I learned to do This</i></a>\n",
    "    <br>\n",
    "    <a href=\"https://www.w3schools.com/\"><i>One of the most helpful coding websites</i></a>\n",
    "    <p>The result should be shown above</p>\n",
    "</div>"
   ]
  },
  {
   "cell_type": "code",
   "execution_count": 2,
   "metadata": {
    "vscode": {
     "languageId": "html"
    }
   },
   "outputs": [
    {
     "data": {
      "text/html": [
       "\n",
       "<script src=\"https://utteranc.es/client.js\"\n",
       "        repo=\"ninaadkiran/Ninaad-Repository2\"\n",
       "        issue-term=\"pathname\"\n",
       "        theme=\"github-dark-orange\"\n",
       "        crossorigin=\"anonymous\"\n",
       "        async>\n",
       "</script>\n"
      ],
      "text/plain": [
       "<IPython.core.display.HTML object>"
      ]
     },
     "metadata": {},
     "output_type": "display_data"
    }
   ],
   "source": [
    "%%html\n",
    "\n",
    "<script src=\"https://utteranc.es/client.js\"\n",
    "        repo=\"ninaadkiran/Ninaad-Repository2\"\n",
    "        issue-term=\"pathname\"\n",
    "        theme=\"github-dark-orange\"\n",
    "        crossorigin=\"anonymous\"\n",
    "        async>\n",
    "</script>"
   ]
  }
 ],
 "metadata": {
  "kernelspec": {
   "display_name": "Python 3",
   "language": "python",
   "name": "python3"
  },
  "language_info": {
   "codemirror_mode": {
    "name": "ipython",
    "version": 3
   },
   "file_extension": ".py",
   "mimetype": "text/x-python",
   "name": "python",
   "nbconvert_exporter": "python",
   "pygments_lexer": "ipython3",
   "version": "3.10.12"
  },
  "orig_nbformat": 4
 },
 "nbformat": 4,
 "nbformat_minor": 2
}
