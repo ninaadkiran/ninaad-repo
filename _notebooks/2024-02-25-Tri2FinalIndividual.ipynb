{
 "cells": [
  {
   "cell_type": "markdown",
   "metadata": {},
   "source": [
    "---\n",
    "toc: true\n",
    "comments: false\n",
    "layout: post\n",
    "title: Individual Seed\n",
    "description: My contributions last tri\n",
    "courses: { csp: {week: 24} }\n",
    "type: collab\n",
    "---"
   ]
  },
  {
   "cell_type": "markdown",
   "metadata": {},
   "source": [
    "# N@TM\n",
    "\n",
    "My team had worked extensively over the past trimester on our CPT project, which was a gaming website with an integrated chatroom. "
   ]
  },
  {
   "cell_type": "markdown",
   "metadata": {},
   "source": [
    "# Features I worked on\n",
    "    - Login/Signup frontend and backend\n",
    "    - User Database and deleting/updating users\n",
    "    - Chatroom frontend and backend    "
   ]
  },
  {
   "cell_type": "markdown",
   "metadata": {},
   "source": [
    "### OUR PROJECT\n",
    "\n",
    "For our project we made a gaming website. Most online gaming websites simply allow you to play games and nothing else so we wanted to create a more immersive experience with features like leader boards, adding friends, and even a chatroom for gamers to talk to each other.\n",
    "\n",
    "### TEAM CONTRIBUTIONS\n",
    "\n",
    "I worked on creating the signup and login page (frontend and backend) along with the database where people can see all the users on the site. I did this by creating an user API that facilitated the login and signup processes and pointed out any errors. I also created the chatroom (frontend and backend) where players can interact with each other and created an API for it facilitate the messages. I used an sqlite table in everything I created to store things such as users, messages, and information about the messages that were sent.\n",
    "\n",
    "Josh created one of the games and added a leader board to his game. He did this by creating a simple API for the leader board and stored scores in an sqlite table. He also created the friend system allowing people to add existing users on the side to their friend list, creating an API to facilitate this and storing friends in a table. In addition to this Josh did styling for almost the entire website (SASS) other than the login page.\n",
    "\n",
    "Ethan and Daniel both created some complex games on the website that required a lot of code and also did some styling for the website.\n",
    "\n",
    "### OUR PROJECT MATCHING CPT REQUIREMENTS\n",
    "\n",
    "|**College board**|Our Project|\n",
    "|---------------------------|-----------------|\n",
    "|Instructions for input from one of the following: the user, a device, an online data stream, a file.|We require JWT tokens and credentials (that can be created in the signup) for a user to login|\n",
    "|Use of at least one list (or other collection type) to represent a collection of data that is stored and used to manage program complexity and help fulfill the users purpose.|We use SQLite tables to store and manage data about users, friends, scores and messages.|\n",
    "|At least one procedure that contributed to the program’s intended purpose where you have defined: the name, return type, one or more parameters.|We have procedures for user authentication and authorization, which take JWT tokens and user credentials as parameters.|\n",
    "|An algorithm that includes sequencing, selection, and iteration that is in the body of the selected procedure.|Our authentication algorithm meets these requirements by including sequencing (checking JWT token and cookies), and selection (redirecting or allowing to update or delete users based on user or admin status).|\n",
    "|Calls to your student-developed procedure.|Our procedures for user related functions, scores, and messages are called throughout the application.|\n",
    "|Instructions for output (tactile, audible, visual, or ) based on input and program functionality.|Login redirects users, games are manipulated by user, messages are typed by user, and all of these have visual responses|\n"
   ]
  },
  {
   "cell_type": "markdown",
   "metadata": {},
   "source": [
    "# Key Commits\n",
    "\n",
    "### Login/Signup Page and Database\n",
    "- [Frontend](https://github.com/ninaadkiran/group-frontend/commit/845b5e3421c26680554654dd27f7ef89cc0b1fdf)\n",
    "- [Backend](https://github.com/ninaadkiran/group-frontend/commit/845b5e3421c26680554654dd27f7ef89cc0b1fdf)\n",
    "\n",
    "### Chatroom\n",
    "\n",
    "- [Frontend](https://github.com/ninaadkiran/group-frontend/commit/736ef079adee9df112b4c351d5d00bea9310be49)\n",
    "- [Backend](https://github.com/ninaadkiran/group-backend/commit/ee4b6f97fabb5c8bf69df6bce47d19b144b03ac7)\n",
    "\n",
    "### Analytics\n",
    "\n",
    "- [Login Stuff Frontend](https://github.com/ninaadkiran/group-frontend/graphs/contributors)\n",
    "\n"
   ]
  }
 ],
 "metadata": {
  "language_info": {
   "name": "python"
  }
 },
 "nbformat": 4,
 "nbformat_minor": 2
}
