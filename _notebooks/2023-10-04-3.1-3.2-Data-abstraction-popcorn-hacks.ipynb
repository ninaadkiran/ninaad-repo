{
 "cells": [
  {
   "cell_type": "markdown",
   "metadata": {},
   "source": [
    "---\n",
    "toc: true\n",
    "comments: false\n",
    "layout: post\n",
    "title: Data Abstractions\n",
    "description: Team teach 3.1, 3.2\n",
    "courses: { csp: {week: 8} }\n",
    "type: ccc\n",
    "---"
   ]
  },
  {
   "cell_type": "markdown",
   "metadata": {},
   "source": [
    "**3.1,3.2 Data Abstraction Popcorn ccc**"
   ]
  },
  {
   "cell_type": "code",
   "execution_count": null,
   "metadata": {},
   "outputs": [],
   "source": [
    "tinga = \"binga\"\n",
    "print(tinga)"
   ]
  },
  {
   "cell_type": "code",
   "execution_count": null,
   "metadata": {},
   "outputs": [],
   "source": [
    "tinga = \"goat\"\n",
    "print(tinga)\n",
    "\n",
    "boolets = 6\n",
    "print(boolets)\n",
    "print(boolets>7)\n"
   ]
  },
  {
   "cell_type": "code",
   "execution_count": null,
   "metadata": {},
   "outputs": [],
   "source": [
    "boolets = 1\n",
    "boolets1 = 2\n",
    "boolets2 = 3\n",
    "boolets1 = boolets2\n",
    "boolets = boolets1\n",
    "print(boolets1)\n",
    "print(boolets)"
   ]
  },
  {
   "cell_type": "code",
   "execution_count": null,
   "metadata": {},
   "outputs": [],
   "source": [
    "tingus = [\"hungu hungu\",\"ring ring tinga\",\"tinga tinga 123\",\"chong chong\",\"pong\",\"pungu pungu\",\"salamanca\"]\n",
    "print(tingus[0])\n",
    "print(tingus[3])\n",
    "print(tingus[6])"
   ]
  },
  {
   "cell_type": "code",
   "execution_count": null,
   "metadata": {},
   "outputs": [],
   "source": [
    "import json\n",
    "ting = [\"tinga\",\"ohh tinga\",\"ring ting ting\"]\n",
    "json.obj = json.dumps(ting)\n",
    "print(json.obj)"
   ]
  },
  {
   "cell_type": "code",
   "execution_count": null,
   "metadata": {},
   "outputs": [],
   "source": [
    "secretNumber = 15 # integer\n",
    "print(secretNumber)\n",
    "\n",
    "food = \"Pizza\" # string\n",
    "print(food)\n",
    "\n",
    "names = [\"Nandan\", \"Arnav\", \"Torin\", \"Remy\"] # list\n",
    "print(names)\n",
    "\n",
    "IamCool = True # boolean\n",
    "\n",
    "print(IamCool)\n",
    "\n",
    "##Bonus Problem:\n",
    "\n",
    "names_2 = {\n",
    "    \"Nandan\": \"TeamMate1\",\n",
    "    \"Arnav\": \"TeamMate2\",\n",
    "    \"Torin\": \"TeamMate3\",\n",
    "    \"Remy\": \"TeamMate4\",\n",
    "}\n",
    "\n",
    "print(names_2)\n",
    "\n",
    "\n",
    "15\n",
    "Pizza\n",
    "['Nandan', 'Arnav', 'Torin', 'Remy']\n",
    "True\n",
    "{'Nandan': 'TeamMate1', 'Arnav': 'TeamMate2', 'Torin': 'TeamMate3', 'Remy': 'TeamMate4'}"
   ]
  },
  {
   "cell_type": "code",
   "execution_count": 10,
   "metadata": {},
   "outputs": [
    {
     "name": "stdout",
     "output_type": "stream",
     "text": [
      "Question 1 : What period do I have AP CSP?\n",
      "Correct!\n",
      "Question 2 : What was this lesson on?\n",
      "Incorrect.\n",
      "Question 3 : What type of variable is used for numbers?\n",
      "Incorrect.\n",
      "Quiz complete! You scored 1 out of 3\n"
     ]
    }
   ],
   "source": [
    "questions = [\"What period do I have AP CSP?\", \"What was this lesson on?\", \"What type of variable is used for numbers?\"]\n",
    "answers = [\"5\", \"Data Abstraction\", \"Integer\"]\n",
    "\n",
    "score = 0\n",
    "question_index = 0\n",
    "\n",
    "while question_index < len(questions):\n",
    "    print(\"Question\", question_index + 1, \":\", questions[question_index])\n",
    "    user_answer = input(\"Enter your answer: \")\n",
    "  \n",
    "    if user_answer.lower() == answers[question_index].lower():\n",
    "        print(\"Correct!\")\n",
    "        score += 1\n",
    " \n",
    "    else:\n",
    "        print(\"Incorrect.\")\n",
    "    question_index += 1\n",
    "    \n",
    "print(\"Quiz complete! You scored\", score, \"out of\", len(questions))"
   ]
  }
 ],
 "metadata": {
  "kernelspec": {
   "display_name": "Python 3",
   "language": "python",
   "name": "python3"
  },
  "language_info": {
   "codemirror_mode": {
    "name": "ipython",
    "version": 3
   },
   "file_extension": ".py",
   "mimetype": "text/x-python",
   "name": "python",
   "nbconvert_exporter": "python",
   "pygments_lexer": "ipython3",
   "version": "3.10.12"
  },
  "orig_nbformat": 4
 },
 "nbformat": 4,
 "nbformat_minor": 2
}
