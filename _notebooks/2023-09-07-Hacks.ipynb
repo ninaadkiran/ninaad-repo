{
 "cells": [
  {
   "cell_type": "markdown",
   "metadata": {},
   "source": [
    "---\n",
    "toc: true\n",
    "comments: false\n",
    "layout: post\n",
    "title: Presentation Plan \n",
    "description: What we will go over in our presentation\n",
    "courses: { csp: {week: 1} }\n",
    "type: ccc\n",
    "---"
   ]
  },
  {
   "cell_type": "markdown",
   "metadata": {},
   "source": [
    "# Presentation Plan\n",
    "\n",
    "      - Open up vscode\n",
    "\n",
    "      - I will go over linux\n",
    "\n",
    "      - Brandon will go over bash\n",
    "\n",
    "      - Brandon will show his python quiz\n",
    "\n",
    "      - I will go over my unclickable button in javascrip\n",
    "\n",
    "      - Show and explain some code for our ccc from week 2-3 if there is time\n",
    "\n",
    "      - Go over the overview of this week and talking about some problems we solved"
   ]
  }
 ],
 "metadata": {
  "language_info": {
   "name": "python"
  },
  "orig_nbformat": 4
 },
 "nbformat": 4,
 "nbformat_minor": 2
}
