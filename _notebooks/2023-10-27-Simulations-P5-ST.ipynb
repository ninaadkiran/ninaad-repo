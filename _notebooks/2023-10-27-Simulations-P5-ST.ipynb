{
 "cells": [
  {
   "cell_type": "markdown",
   "metadata": {},
   "source": [
    "---\n",
    "comments: true\n",
    "layout: post\n",
    "title: Simulations\n",
    "description: Student Lesson\n",
    "type: ccc\n",
    "courses: { csp: {week: 10} }\n",
    "---"
   ]
  },
  {
   "cell_type": "markdown",
   "metadata": {},
   "source": [
    "## Simulations \n"
   ]
  },
  {
   "cell_type": "markdown",
   "metadata": {},
   "source": [
    "> A simulation is the use of a computer software to represent the dynamic responses of one system by the behaviour of another system modeled after it. A simulation uses a mathematical descriptions, or models, of a real system in the form of a computer program."
   ]
  },
  {
   "cell_type": "markdown",
   "metadata": {},
   "source": [
    "![simulation](https://www.simscale.com/wp-content/uploads/2022/11/dron-quadcopter-simulation.png)"
   ]
  },
  {
   "cell_type": "markdown",
   "metadata": {},
   "source": [
    "## College Board Essential Knowledge"
   ]
  },
  {
   "cell_type": "markdown",
   "metadata": {},
   "source": [
    "> Simulation are absractions of more complex objects or phenomena for a specific purpose \n",
    "\n",
    "- Mimic Real World Events\n",
    "- Allows investigation of phenomenons without contraints of the Real World\n",
    "- Helps you draw accurate inferences\n",
    "\n",
    "> Simulations utilize varying sets of values to reflect the changings states of a phenomenon\n",
    "\n",
    "- simulations can simplfly things for functionality\n",
    "- Simulations can contain bias from real world elements, that were chosen to be included or excluded\n",
    "\n",
    "> Simulations work best when the real world experemnts are too impractical or time consuming. For example, simulating how different cars behave when they crash, would be much better than crashng actual cars in the real world, which would be expensive and dangerous.\n",
    "\n",
    "<a href=\"https://ibb.co/f4jKcBY\"><img src=\"https://i.ibb.co/NZck4Q6/simulations-vs-experiments.png\" alt=\"simulations-vs-experiments\" border=\"0\"></a>\n"
   ]
  },
  {
   "cell_type": "markdown",
   "metadata": {},
   "source": [
    "## Rolling the Dice"
   ]
  },
  {
   "cell_type": "markdown",
   "metadata": {},
   "source": [
    "<a href=\"https://ibb.co/PGBhfPD\"><img src=\"https://i.ibb.co/XxmsvKY/craps-rolling-seven-7.jpg\" alt=\"craps-rolling-seven-7\" border=\"0\"></a>\n",
    "\n",
    "> Simulating something like a dice roll in real life would require accounting for things like: weight, flaws in design, thrust, and gravity.\n",
    "- KEEP IT SIMPLE! just use a random-number generator! Ignore minor causes of variablility"
   ]
  },
  {
   "cell_type": "markdown",
   "metadata": {},
   "source": [
    "## Random"
   ]
  },
  {
   "cell_type": "markdown",
   "metadata": {},
   "source": [
    "- \"Random\" is a built-in python function that allow the user to draw a random value from a set range.\n",
    "- A Random Number Generator (RNG) is a common simulation that selects a random value from an array.\n",
    "- The following code cell utilizes \"random\" to select a number from 1 to 100."
   ]
  },
  {
   "cell_type": "code",
   "execution_count": null,
   "metadata": {},
   "outputs": [],
   "source": [
    "#imports random module so we can use it in our code\n",
    "import random\n",
    "\n",
    "#sets variable random_number as a random number between 1 and 100\n",
    "random_number = random.randint(1, 100)\n",
    "\n",
    "#Printing out your random Number\n",
    "print(random_number)"
   ]
  },
  {
   "cell_type": "markdown",
   "metadata": {},
   "source": [
    "## More complex usage of \"random\"; Coin Toss Simulation"
   ]
  },
  {
   "cell_type": "code",
   "execution_count": null,
   "metadata": {},
   "outputs": [],
   "source": [
    "import random\n",
    "def flip_coin():\n",
    "    return random.choice([\"Heads\", \"Tails\"])\n",
    "def coin_flip_simulation(num_flips):\n",
    "    heads_count = 0\n",
    "    tails_count = 0\n",
    "    for _ in range(num_flips):\n",
    "        result = flip_coin()\n",
    "        if result == \"Heads\":\n",
    "            heads_count += 1\n",
    "        else:\n",
    "            tails_count += 1\n",
    "    return heads_count, tails_count\n",
    "if __name__ == \"__main__\":\n",
    "    num_flips = 1000  #This is the number of coin flips you want to simulate\n",
    "    heads, tails = coin_flip_simulation(num_flips)\n",
    "    print(\"Number of Heads: \"+ str(heads))\n",
    "    print(\"Number of Tails: \" + str(tails))\n",
    "    print(\"Heads Probability: \"+ str({heads / num_flips}))\n",
    "    print(\"Tails Probability: \"+ str({tails / num_flips}))"
   ]
  },
  {
   "cell_type": "markdown",
   "metadata": {},
   "source": [
    "## Popcorn Hack #1"
   ]
  },
  {
   "cell_type": "markdown",
   "metadata": {},
   "source": [
    "Utilize \"random\" to create a basic simulation of a rolling TWO dice. Print the sum of both dice rolls. Remember to practice good syntax when naming your variables. "
   ]
  },
  {
   "cell_type": "code",
   "execution_count": null,
   "metadata": {},
   "outputs": [],
   "source": [
    "import random\n",
    "\n",
    "#Code, Code, Code\n",
    "random_int1 = random.randint(1, 6)\n",
    "random_int2 = random.randint(1, 6)\n",
    "\n",
    "sum = random_int1 + random_int2\n",
    "\n",
    "print(\"First number is:\", random_int1)\n",
    "print(\"Second number is:\", random_int2)\n",
    "print(\"The sum of the numbers is:\", sum)"
   ]
  },
  {
   "cell_type": "markdown",
   "metadata": {},
   "source": [
    "## Algorithms\n",
    ">Simulations often utilize algorithms and equations to perform tasks because simulations don't always have the same output\n",
    "- the output of a simulation depends on the input\n",
    "\n",
    ">An algorithm is a finite sequence of instructions used to solve problems or perform computations. \n",
    "- commonly used alongside functions\n"
   ]
  },
  {
   "cell_type": "markdown",
   "metadata": {},
   "source": [
    "## Example Algorithm in a function"
   ]
  },
  {
   "cell_type": "code",
   "execution_count": 42,
   "metadata": {},
   "outputs": [
    {
     "data": {
      "text/plain": [
       "7"
      ]
     },
     "execution_count": 42,
     "metadata": {},
     "output_type": "execute_result"
    }
   ],
   "source": [
    "#Defining Function\n",
    "def algorithm(input):\n",
    "    \n",
    "    #Manipulating input and preparing it for the output.  \n",
    "    output = input+2\n",
    "    \n",
    "    #Return the output\n",
    "    return output\n",
    "\n",
    "#Call the Function to start the algorithm\n",
    "algorithm(5)\n",
    "    "
   ]
  },
  {
   "cell_type": "markdown",
   "metadata": {},
   "source": [
    "## Mathematics\n",
    "- Math can also prove to be very useful in certain types of situations.\n",
    "- Commonly used along with Algorithms when simulating various things\n",
    "\n",
    "![math](https://pythontutorialhome.files.wordpress.com/2019/05/image-2.png)\n"
   ]
  },
  {
   "cell_type": "markdown",
   "metadata": {},
   "source": [
    "## Popcorn Hack #2"
   ]
  },
  {
   "cell_type": "markdown",
   "metadata": {},
   "source": [
    "Simulate how long an object will fall for using an algorithm, with user-inputed variables for height dropped. Use the following formula as a reference.\n",
    "\n",
    "![gravity ](https://hepweb.ucsd.edu/ph110b/110b_notes/img272.png)\n",
    "\n",
    "- t = time (output)\n",
    "- h = height dropped from (input)\n",
    "- g = constant (given)"
   ]
  },
  {
   "cell_type": "code",
   "execution_count": null,
   "metadata": {},
   "outputs": [],
   "source": [
    "# Constant, Acceleration due to gravity (m/s^2)\n",
    "G = 9.81 \n",
    "\n",
    "def simulation(height_dropped):\n",
    "    # Code Code Code\n",
    "\n",
    "def simulation(height_dropped):\n",
    "    time = (2 * height_dropped / G) ** 0.5\n",
    "    \n",
    "    return time\n",
    "\n",
    "user_input = input(\"Enter a value for 'i': \") \n",
    "i = int(user_input)  \n",
    "result = simulation(i) \n",
    "print(result)  "
   ]
  },
  {
   "cell_type": "markdown",
   "metadata": {},
   "source": [
    "# Using Loops in Simulations"
   ]
  },
  {
   "cell_type": "markdown",
   "metadata": {},
   "source": [
    "> For loops can also be used in simulations\n",
    "- They can simulate events that repeat but don't always have the same output\n"
   ]
  },
  {
   "cell_type": "code",
   "execution_count": 44,
   "metadata": {},
   "outputs": [
    {
     "name": "stdout",
     "output_type": "stream",
     "text": [
      "This is run number: 0\n",
      "This is run number: 1\n",
      "This is run number: 2\n",
      "This is run number: 3\n"
     ]
    }
   ],
   "source": [
    "# Example For Loop\n",
    "\n",
    "#Creating For Loop to repeat 4 times\n",
    "for i in range(4):\n",
    "    \n",
    "    #Action that happens inside for loop\n",
    "    print(\"This is run number: \" + str(i))\n",
    "    "
   ]
  },
  {
   "cell_type": "markdown",
   "metadata": {},
   "source": [
    "## Popcorn Hack #3"
   ]
  },
  {
   "cell_type": "markdown",
   "metadata": {},
   "source": [
    "You are gambling addic. \n",
    "\n",
    "Each session you roll 2 dice.\n",
    "\n",
    "If your dice roll is greater than or equal to 9 you win the session.\n",
    "\n",
    "If you win over 5 sessions, you win the jackpot.\n",
    "\n",
    "Simulate your odds to predict if you will hit the jackpot (how many rounds did you win?) using a for loop and random.\n"
   ]
  },
  {
   "cell_type": "code",
   "execution_count": null,
   "metadata": {},
   "outputs": [],
   "source": [
    "# Code Code Code\n",
    "import random \n",
    "\n",
    "score = 0\n",
    "\n",
    "for i in range (0, 10):\n",
    "    random_int1 = random.randint(1, 6)\n",
    "    random_int2 = random.randint(1, 6)\n",
    "    sum = random_int1 + random_int2\n",
    "    print(\"The sum of your\", i+1, \"roll is:\", sum)\n",
    "    if sum >= 9:\n",
    "        score = score + 1\n",
    "        \n",
    "print(\"Your score is:\", score)\n",
    "\n",
    "if score >= 5:\n",
    "    print(\"You win!\")\n",
    "else: \n",
    "    print(\"You lose!\")"
   ]
  },
  {
   "cell_type": "markdown",
   "metadata": {},
   "source": [
    "## BONUS POPCORN HACK\n",
    "> Welcome to Flight Simulator! Your goal is to complete a Python program that simulates a flight We've set up some initial values for altitude, speed, and fuel. Your task is to update these values to make the flight more realistic.\n",
    "\n",
    "- Your mission:\n",
    "\n",
    "1. Use random changes to simulate altitude, speed, and fuel changes.\n",
    "2. Keep the flight going until it reaches 10,000 feet or runs out of fuel.\n",
    "3. Make sure altitude, speed, and fuel remain realistic."
   ]
  },
  {
   "cell_type": "code",
   "execution_count": 1,
   "metadata": {},
   "outputs": [
    {
     "name": "stdout",
     "output_type": "stream",
     "text": [
      "Welcome to Flight Simulator!\n",
      "Welcome to Flight Simulator!\n",
      "Starting Altitude: 0\n",
      "Starting Speed: 0\n",
      "Starting Fuel: 100\n",
      "Final Altitude: 10000\n",
      "Final Speed: 1000\n",
      "Final Fuel: 40\n",
      "The flight is over!\n"
     ]
    }
   ],
   "source": [
    "import random\n",
    "\n",
    "# Initial parameters\n",
    "altitude = 0\n",
    "speed = 0\n",
    "fuel = 100\n",
    "\n",
    "print(\"Welcome to Flight Simulator!\")\n",
    "\n",
    "# Code Code Code\n",
    "print(\"Welcome to Flight Simulator!\")\n",
    "\n",
    "# Initial parameters\n",
    "altitude = 0\n",
    "speed = 0\n",
    "fuel = 100\n",
    "\n",
    "print(\"Starting Altitude:\", altitude)\n",
    "print(\"Starting Speed:\", speed)\n",
    "print(\"Starting Fuel:\", fuel)\n",
    "\n",
    "while altitude < 3000 and fuel > 0:\n",
    "    speed = speed + 200\n",
    "    altitude = altitude + speed\n",
    "    fuel = fuel - 5\n",
    "    \n",
    "while altitude < 10000 and fuel > 0:\n",
    "    altitude = altitude + speed\n",
    "    fuel = fuel - 5\n",
    "\n",
    "print(\"Final Altitude:\", altitude)\n",
    "print(\"Final Speed:\", speed)\n",
    "print(\"Final Fuel:\", fuel)\n",
    "\n",
    "print(\"The flight is over!\")"
   ]
  },
  {
   "cell_type": "markdown",
   "metadata": {},
   "source": [
    "## QUIZ TIME"
   ]
  },
  {
   "cell_type": "markdown",
   "metadata": {},
   "source": [
    "- Quick true or false quiz, whoever answers this correctly(raise your hand) gets a piece of gum or a dinero. \n",
    "<hr>\n",
    "\n",
    "> T or F    \n",
    "- A simulation will always have the same result.\n",
    "> T or F    \n",
    "- A simulation investigates a phenomenom without real-world constraints of time, money, or safety.\n",
    "> T or F    \n",
    "- A simulation has results which are more accurate than an experiment,\n",
    "> T or F    \n",
    "- A simulation can model real-worl events that are not practical for experiments"
   ]
  },
  {
   "cell_type": "code",
   "execution_count": null,
   "metadata": {},
   "outputs": [],
   "source": [
    "#code"
   ]
  },
  {
   "cell_type": "markdown",
   "metadata": {},
   "source": [
    "# HOMEWORK HACK #1\n",
    "\n",
    "First finish Popcorn Hack #3. Expand the simulation to involve your own money.\n",
    "\n",
    "starting money: $100\n",
    "\n",
    "(Dice Roll <= 3) → lose $70\n",
    "\n",
    "( 6> Dice Roll >3) → lose $40\n",
    "\n",
    "( 9> Dice Roll >=6) → win $20\n",
    "\n",
    "( Dice Roll>= 9 + Session Win) → win $50\n",
    "\n",
    "Jackpot → win $100"
   ]
  },
  {
   "cell_type": "code",
   "execution_count": 3,
   "metadata": {},
   "outputs": [
    {
     "name": "stdout",
     "output_type": "stream",
     "text": [
      "The sum of roll number 1 is 4\n",
      "You lost $40!\n",
      "The sum of roll number 2 is 6\n",
      "You won $20!\n",
      "The sum of roll number 3 is 4\n",
      "You lost $40!\n",
      "The sum of roll number 4 is 5\n",
      "You lost $40!\n",
      "The sum of roll number 5 is 4\n",
      "You lost $40!\n",
      "The sum of roll number 6 is 12\n",
      "You won $50!\n",
      "The sum of roll number 7 is 7\n",
      "You won $20!\n",
      "The sum of roll number 8 is 10\n",
      "You won $50!\n",
      "The sum of roll number 9 is 3\n",
      "You lost $70!\n",
      "The sum of roll number 10 is 5\n",
      "You lost $40!\n",
      "Your profit: $ -130\n"
     ]
    }
   ],
   "source": [
    "import random \n",
    "\n",
    "score = 0\n",
    "money = 0\n",
    "\n",
    "for i in range (0, 10):\n",
    "    random_int1 = random.randint(1, 6)\n",
    "    random_int2 = random.randint(1, 6)\n",
    "    sum = random_int1 + random_int2\n",
    "    print(\"The sum of roll number\", i+1, \"is\", sum)\n",
    "    if sum <= 3:\n",
    "        money = money - 70\n",
    "        print(\"You lost $70!\")\n",
    "    elif 3 < sum < 6:\n",
    "        money = money - 40\n",
    "        print(\"You lost $40!\")\n",
    "    elif 6 <= sum < 9:\n",
    "        money = money + 20\n",
    "        print(\"You won $20!\")\n",
    "    elif sum >= 9:\n",
    "        money = money + 50\n",
    "        print(\"You won $50!\")\n",
    "    if score >= 5:\n",
    "        print(\"Jackpot! You won $100!\")\n",
    "        money = money + 100\n",
    "        \n",
    "        \n",
    "print(\"Your profit: $\", money)"
   ]
  },
  {
   "cell_type": "markdown",
   "metadata": {},
   "source": [
    "# HOMEWORK HACK #2\n",
    "\n",
    "Given initial parameters for a car simulation, including its initial speed, acceleration rate, deceleration rate, maximum speed, and initial distance, write a program to simulate the car’s journey and determine the final speed, distance covered, and time taken before it either covers 1000 meters or slows down to below 5 m/s?"
   ]
  },
  {
   "cell_type": "code",
   "execution_count": 2,
   "metadata": {},
   "outputs": [
    {
     "name": "stdout",
     "output_type": "stream",
     "text": [
      "Time taken: 32 seconds\n",
      "Final distance: 1000 m\n",
      "Final Speed: 58 m/s\n"
     ]
    }
   ],
   "source": [
    "speed = 0  # Initial speed\n",
    "acceleration = 2  # Acceleration rate in m/s^2\n",
    "deceleration = 1  # Deceleration rate in m/s^2\n",
    "max_speed = 60  # Maximum speed in m/s\n",
    "distance = 0  # Initial distance\n",
    "time = 0  # Initial time\n",
    "\n",
    "\n",
    "while speed < 60 and distance < 1000:\n",
    "    speed = speed + acceleration\n",
    "    time = time + 1\n",
    "    distance = distance + speed\n",
    "    if distance > 1000:\n",
    "        distance = 1000\n",
    "        break\n",
    "    if speed > 60:\n",
    "        speed = 60\n",
    "\n",
    "while speed > 5 and distance < 1000:\n",
    "    speed = speed - deceleration\n",
    "    time = time + 1\n",
    "    distance = distance + speed\n",
    "    if distance > 1000:\n",
    "        distance = 1000\n",
    "        break\n",
    "    if speed < 5:\n",
    "        speed = 5\n",
    "        print(\"The car has stopped after traveling\", distance, \"meters in\", time, \"seconds.\")\n",
    "        break\n",
    "\n",
    "print(\"Time taken:\", time, \"seconds\")\n",
    "print(\"Final distance:\", distance, \"m\")\n",
    "print(\"Final Speed:\", speed, \"m/s\")"
   ]
  },
  {
   "cell_type": "markdown",
   "metadata": {},
   "source": [
    "Simulations use computer programs to model real-world systems.\n",
    "They're useful when real-world experiments are impractical or time-consuming.\n",
    "\n",
    "- The \"random\" module in Python helps generate random values for simulations.\n",
    "It's handy for simulating events like dice rolls or coin tosses.\n",
    "\n",
    "- Algorithms are step-by-step instructions for problem-solving.\n",
    "Functions are reusable bits of code that make programs cleaner.\n",
    "\n",
    "- Math is applied to simulate real-world scenarios accurately.\n",
    "Formulas, like the one for calculating falling time, are used in simulations.\n",
    "\n",
    "\n",
    "- For loops are used to repeat actions in simulations.\n",
    "They're handy for simulating events that may have different outcomes.\n",
    "\n",
    "- The exercises provided hands-on experience in coding simulations.\n",
    "I simulated dice rolls, a gambling scenario, and even a flight with changing variables.\n",
    "\n",
    "- Simulations are practical for scenarios like car crash testing without real crashes.\n",
    "They offer a safe and cost-effective way to study phenomena."
   ]
  }
 ],
 "metadata": {
  "kernelspec": {
   "display_name": "Python 3",
   "language": "python",
   "name": "python3"
  },
  "language_info": {
   "codemirror_mode": {
    "name": "ipython",
    "version": 3
   },
   "file_extension": ".py",
   "mimetype": "text/x-python",
   "name": "python",
   "nbconvert_exporter": "python",
   "pygments_lexer": "ipython3",
   "version": "3.10.12"
  },
  "orig_nbformat": 4
 },
 "nbformat": 4,
 "nbformat_minor": 2
}
