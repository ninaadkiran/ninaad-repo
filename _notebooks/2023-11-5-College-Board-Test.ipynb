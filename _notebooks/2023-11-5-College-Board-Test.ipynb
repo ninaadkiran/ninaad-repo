{
 "cells": [
  {
   "cell_type": "markdown",
   "metadata": {},
   "source": [
    "---\n",
    "toc: true\n",
    "comments: false\n",
    "layout: post\n",
    "title: College Board Learning and Corrections  \n",
    "description: college board\n",
    "courses: { csp: {week: 11} }\n",
    "type: collab\n",
    "---"
   ]
  },
  {
   "cell_type": "markdown",
   "metadata": {},
   "source": [
    "# Study Plan:\n",
    "\n",
    "  - I plan on taking the quiz first and noting the questions I am unsure on because I am not sure what to expect\n",
    "  \n",
    "  - I will review those questions and the ones I have missed and take notes on them\n",
    "  \n",
    "  - If the question seems to be common sense and a silly mistake I will skip it and move on\n",
    "  \n",
    "  - If it is more specific I will write it down and study it to be reviewed later"
   ]
  },
  {
   "cell_type": "markdown",
   "metadata": {},
   "source": [
    "# Notes:\n",
    "\n",
    "- Citizen science: Research conducted by the general public, typically through crowd sourcing\n",
    "\n",
    "- Allows for greater data collection and gives community insight into research\n",
    "\n",
    "   - Boolean variables are used for data with two outcomes (true or false)\n",
    "\n",
    "- Internet Engineering Taskforce: A standards organization for the Internet and is responsible for the technical standards that make up the Internet protocol suite.\n",
    "\n",
    "- Benefits of using an iterative and incremental process: It helps programmers identify errors as components are added to a working program.\n",
    "\n",
    "- During internet connection, every device connected to the Internet is assigned an Internet protocol (IP) address.\n",
    "\n",
    "- Byte pair encoding is an example of a lossless transformation because an encoded string can be restored to its original version.\n",
    "\n",
    "- In public key cryptography, the sender uses the recipient’s public key to encrypt a message. The recipient's private key is used to decrypt the message\n",
    "\n",
    "- Internet enables crowdsourcing by:\n",
    "   \n",
    "   - Providing crowdsourcing participants access to useful tools, information, and professional knowledge.\n",
    "\n",
    "   - The speed and reach of the Internet can lower geographic barriers, allowing individuals from different locations to contribute to projects.\n",
    "\n",
    "- Cloud Computing has:\n",
    "\n",
    "   -  Reduced concerns about intellectual property rights.\n",
    "\n",
    "   - Introduced new data-security concerns.\n",
    "\n",
    "- Undicidable problems are problems that require a yes or no answer but no algorithm can solve them. An example of this is the the halting problem (determining whether a Turing machine halts on a given input) and the mortality problem (determining whether it halts for every starting configuration).\n",
    "(https://en.wikipedia.org/wiki/List_of_undecidable_problems)"
   ]
  },
  {
   "cell_type": "markdown",
   "metadata": {},
   "source": [
    "# College Board Psuedocode Questions:\n",
    "\n",
    "- A lot of the psuedocode is in blocks.\n",
    "\n",
    "- Multiple problems ask to use psuedocode to move an object to a final destination.\n",
    "\n",
    "- The psuedocode we use on college board for answering questions is mainly for motion.\n",
    "\n",
    "- There are also debugging questions with the psuedocode.\n",
    "\n",
    "- It is all logic based questions"
   ]
  },
  {
   "cell_type": "markdown",
   "metadata": {},
   "source": [
    "# Errors and Corrections:\n",
    "\n",
    "- Question 7: Assignment statements with start end and current.\n",
    " \n",
    "   \n",
    "   - I think I simply overlooked the fact that line 4 in comes before line 5 of the code\n",
    "\n",
    "- Question 14: Comparing loop algorithms\n",
    "   \n",
    "   - I made the same mistake as in question 7, however, this time I didn't overlook anything, I expected the answer to be what it was.\n",
    "\n",
    "- Question 38: Frequent customers of a snack bar\n",
    "   \n",
    "   - I mistook the division sign for modulus. With division, when things are divisible they are equal to 1 but they are equal to 0 with modulus.\n",
    "\n",
    "- Question 46: Infinite loops in undecideable problems\n",
    "   \n",
    "   - Wasn't sure about the answer when answering the questions. Now I realized that undecidable problems are defined by the fact that no algorithm can solve them.\n",
    "\n",
    "- Question 47: Encrypting and decrypting using public key cryptography\n",
    "\n",
    "   - I realized that something sent to the recipient will have to be decrypted by the recipient.\n",
    "\n",
    "- Question 55: Results of the KeepPlaying procedure\n",
    "\n",
    "   - I knew the answer but I accidentally put the wrong answer in.\n",
    "\n",
    "- Question 64: Cloud computing and the Internet\n",
    "   \n",
    "   - I knew the answer but I accidentally put the wrong answer in."
   ]
  }
 ],
 "metadata": {
  "kernelspec": {
   "display_name": "Python 3",
   "language": "python",
   "name": "python3"
  },
  "language_info": {
   "codemirror_mode": {
    "name": "ipython",
    "version": 3
   },
   "file_extension": ".py",
   "mimetype": "text/x-python",
   "name": "python",
   "nbconvert_exporter": "python",
   "pygments_lexer": "ipython3",
   "version": "3.10.12"
  },
  "orig_nbformat": 4
 },
 "nbformat": 4,
 "nbformat_minor": 2
}
