{
 "cells": [
  {
   "cell_type": "markdown",
   "metadata": {},
   "source": [
    "---\n",
    "title: Javascript Data Types/Lists\n",
    "hide: True\n",
    "description: A Tech Talk on javascript data types and how to use with lists\n",
    "permalink: /basics/datatypes\n",
    "author: Ninaad Kiran\n",
    "---"
   ]
  },
  {
   "cell_type": "raw",
   "metadata": {},
   "source": [
    "{% include nav_basics.html %}\n"
   ]
  },
  {
   "cell_type": "markdown",
   "metadata": {},
   "source": [
    "# ccc\n",
    "Create a JavaScript snippet below with the following requirements:\n",
    "- Create an object representing yourself as a person. The object should have keys for your name, age, current classes, interests, and two more of your choosing\n",
    "- Your object must contain keys whose values are arrays. The arrays can be arrays of strings, numbers, or even other objects if you would like\n",
    "- Print the entire object with console.log after declaring it\n",
    "- Manipulate the arrays within the object and print the entire object with console.log as well as the specific changed key afterwards\n",
    "- Perform mathematical operations on fields in your object such as +, -, /, % etc. and print the results with console.log along with a message contextualizing them\n",
    "- Use typeof to determine the types of at least 3 fields in your object"
   ]
  },
  {
   "cell_type": "code",
   "execution_count": 4,
   "metadata": {
    "vscode": {
     "languageId": "javascript"
    }
   },
   "outputs": [
    {
     "data": {
      "application/javascript": "\nlet originalString = \"Hello, World!\";\nlet substring = originalString.substring(0, 5);\nconsole.log(substring);\n\nlet upperCaseString = originalString.toUpperCase();\nconsole.log(upperCaseString);\n\nlet lowerCaseString = originalString.toLowerCase();\nconsole.log(lowerCaseString);\n\nlet includesCheck = originalString.includes(\"World\");\nconsole.log(includesCheck);\n\nlet num = 42;\nlet formattedNum = num.toLocaleString();\nconsole.log(formattedNum);\n\nlet fruits = [\"apple\", \"banana\", \"cherry\"];\nfruits.push(\"date\");\nconsole.log(fruits);\n\nfruits.pop();\nconsole.log(fruits);\n\nlet person = {\n  name: \"Ninaad\",\n  age: 16,\n};\nconsole.log(person.name);\n",
      "text/plain": [
       "<IPython.core.display.Javascript object>"
      ]
     },
     "metadata": {},
     "output_type": "display_data"
    }
   ],
   "source": [
    "%%js\n",
    "\n",
    "let originalString = \"Hello, World!\";\n",
    "let substring = originalString.substring(0, 5);\n",
    "console.log(substring);\n",
    "\n",
    "let upperCaseString = originalString.toUpperCase();\n",
    "console.log(upperCaseString);\n",
    "\n",
    "let lowerCaseString = originalString.toLowerCase();\n",
    "console.log(lowerCaseString);\n",
    "\n",
    "let includesCheck = originalString.includes(\"World\");\n",
    "console.log(includesCheck);\n",
    "\n",
    "let num = 42;\n",
    "let formattedNum = num.toLocaleString();\n",
    "console.log(formattedNum);\n",
    "\n",
    "let fruits = [\"apple\", \"banana\", \"cherry\"];\n",
    "fruits.push(\"date\");\n",
    "console.log(fruits);\n",
    "\n",
    "fruits.pop();\n",
    "console.log(fruits);\n",
    "\n",
    "let person = {\n",
    "  name: \"Ninaad\",\n",
    "  age: 16,\n",
    "};\n",
    "console.log(person.name);"
   ]
  },
  {
   "cell_type": "code",
   "execution_count": 5,
   "metadata": {
    "vscode": {
     "languageId": "html"
    }
   },
   "outputs": [
    {
     "data": {
      "text/html": [
       "\n",
       "<script src=\"https://utteranc.es/client.js\"\n",
       "        repo=\"ninaadkiran/Ninaad-Repository2\"\n",
       "        issue-term=\"pathname\"\n",
       "        theme=\"github-dark-orange\"\n",
       "        crossorigin=\"anonymous\"\n",
       "        async>\n",
       "</script>\n"
      ],
      "text/plain": [
       "<IPython.core.display.HTML object>"
      ]
     },
     "metadata": {},
     "output_type": "display_data"
    }
   ],
   "source": [
    "%%html\n",
    "\n",
    "<script src=\"https://utteranc.es/client.js\"\n",
    "        repo=\"ninaadkiran/Ninaad-Repository2\"\n",
    "        issue-term=\"pathname\"\n",
    "        theme=\"github-dark-orange\"\n",
    "        crossorigin=\"anonymous\"\n",
    "        async>\n",
    "</script>"
   ]
  }
 ],
 "metadata": {
  "kernelspec": {
   "display_name": "Python 3 (ipykernel)",
   "language": "python",
   "name": "python3"
  },
  "language_info": {
   "codemirror_mode": {
    "name": "ipython",
    "version": 3
   },
   "file_extension": ".py",
   "mimetype": "text/x-python",
   "name": "python",
   "nbconvert_exporter": "python",
   "pygments_lexer": "ipython3",
   "version": "3.10.12"
  }
 },
 "nbformat": 4,
 "nbformat_minor": 4
}
