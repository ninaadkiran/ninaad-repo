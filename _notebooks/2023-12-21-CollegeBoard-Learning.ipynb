{
 "cells": [
  {
   "cell_type": "markdown",
   "metadata": {},
   "source": [
    "---\n",
    "toc: true\n",
    "comments: true\n",
    "layout: post\n",
    "title: College Board MC learning\n",
    "description: Takeaways and corrections from practice MC\n",
    "courses: { csp: {week: 17} }\n",
    "type: posts\n",
    "---"
   ]
  },
  {
   "cell_type": "markdown",
   "metadata": {},
   "source": [
    "# Corrections\n",
    "\n",
    "**Question 13**:\n",
    "\n",
    "    - Wrong answer: The total number of books that were returned past their due date in a given year\n",
    "\n",
    "    - Right answer: The total number of books that were never borrowed in a given year\n",
    "\n",
    "    - Explanation: The total number of books returned past their due date can be determined by comparing the date that each book was due to be returned to the date the book was actually returned. The system only has information for books that were borrowed. Books that have never been borrowed are not represented in the data.\n",
    "\n",
    "**Question 17**:\n",
    "\n",
    "    - Wrong answer: I and II only\n",
    "\n",
    "    - Right answer: I, II, and III\n",
    "\n",
    "    - Explanation: At the lowest level, all digital data (including integers, alphanumeric characters, and machine language instructions) are represented with sequences of bits.\n",
    "\n",
    "**Question 30**:\n",
    "\n",
    "    - Wrong answer: too low\n",
    "\n",
    "    - Right answer: out of range\n",
    "\n",
    "    - Explanation: The string \"out of range\" could only be displayed if the condition n ≥ 1 was false. If the initial value of n is at least 0, then n will be incremented by 1, making n at least 1. Therefore the condition n ≥ 1 will be true and \"out of range\" will not be displayed. If the initial value of n is negative, then n will be multiplied by -1, making n at least 1. Therefore the condition n ≥ 1 will be true and \"out of range\" will not be displayed.\n",
    "\n",
    "**Question 36**:\n",
    "\n",
    "    - Wrong answer: The updated model is unlikely to provide any benefit because removing details from a model will compromise the accuracy of the simulation.\n",
    "\n",
    "    - Right answer: The updated model is likely to decrease the runtime of the simulation because the time required for simulations generally depends on the complexity of the model used.\n",
    "\n",
    "    - Explanation: While removing details from the model may lead to a less accurate simulation, it still is likely to provide the benefit of reduced runtime. The time required for a simulation to run is impacted by the level of detail used in the model. Generally, a simulation based on a less detailed model will require less time to run.\n",
    "\n",
    "**Question 60**:\n",
    "\n",
    "    - Wrong answer: \n",
    "    newList1 <---- RemoveAllDups (list1)\n",
    "    newList2 <---- RemoveAllDups (list2)\n",
    "    bothList <---- Combine (newList1, newList2)\n",
    "    count <---- LENGTH (list1) + LENGTH (list2) - LENGTH (bothList)\n",
    "\n",
    "    - Right answer:\n",
    "    newList1 <---- RemoveAllDups (list1)\n",
    "    newList2 <---- RemoveAllDups (list2)\n",
    "    bothList <---- Combine (newList1, newList2)\n",
    "    uniqueList <---- RemoveAllDups (bothList)\n",
    "    count <---- LENGTH (bothList) - LENGTH (uniqueList)\n",
    "\n",
    "    - Explanation: This code segment creates newList1, containing the unique elements from list1, and newList2, containing the unique elements from list2. These two lists are combined to form bothList. Any elements that appear in both lists are removed from bothList to form uniqueList. The correct count is the difference between the lengths of bothList and uniqueList. For example, assume that list1 contains [10, 10, 20, 30, 40, 50, 60] and list2 contains [20, 20, 40, 60, 80]. The first line of code creates newList1, which contains [10, 20, 30, 40, 50, 60]. The second line of code creates newList2, which contains [20, 40, 60, 80]. The third line of code creates bothList, which contains [10, 20, 30, 40, 50, 60, 20, 40, 60, 80]. The fourth line of code creates uniqueList, which contains [10, 20, 30, 40, 50, 60, 80]. Since bothList contains 10 elements and uniqueList contains 7 elements, the correct result 3 is assigned to count."
   ]
  },
  {
   "cell_type": "markdown",
   "metadata": {},
   "source": [
    "# Reflection\n",
    "\n",
    "- Multiplying by 3 inside a loop: This is a fundamental programming concept. Multiplying a variable by 3 inside a loop indicates a repetitive operation, which is common in coding for tasks that need to be performed multiple times.\n",
    "\n",
    "- Citizen science for wildlife research: Citizen science involves involving the public in scientific research projects. It's a collaborative approach to data collection, often used in wildlife research where volunteers contribute valuable information, helping scientists cover large areas or monitor species.\n",
    "\n",
    "- Display red-blue pattern: This prompt likely refers to programming or graphics, where creating a red-blue pattern could involve manipulating pixels on a display.\n",
    "\n",
    "- Cause of overflow error: Overflow errors occur when a computer attempts to store a number outside the range that can be represented with the available number of bits. Understanding data types and the limitations of numerical representations is crucial in programming.\n",
    "\n",
    "- Inputs to logic circuit: Logic circuits process binary inputs (0s and 1s). Understanding the inputs and their combinations is essential for designing and analyzing logic circuits in digital electronics.\n",
    "\n",
    "- Correctness of robot programs: Ensuring the correctness of robot programs involves testing and debugging to guarantee that the instructions given to a robot lead to the desired behavior. This is critical in robotics to prevent errors and ensure safety.\n",
    "\n",
    "- Advantages of flight simulation: Flight simulation provides a safe environment for pilot training, allowing practice without real-world risks. It's a valuable tool in aviation for honing skills and testing different scenarios.\n",
    "\n",
    "- Best practices in program development: This involves following industry-standard practices for writing clean, efficient, and maintainable code. It includes aspects like code documentation, version control, and testing.\n",
    "\n",
    "- Transmit private data securely: This pertains to encryption and secure communication protocols, essential for protecting sensitive information during transmission over networks."
   ]
  }
 ],
 "metadata": {
  "language_info": {
   "name": "python"
  },
  "orig_nbformat": 4
 },
 "nbformat": 4,
 "nbformat_minor": 2
}
