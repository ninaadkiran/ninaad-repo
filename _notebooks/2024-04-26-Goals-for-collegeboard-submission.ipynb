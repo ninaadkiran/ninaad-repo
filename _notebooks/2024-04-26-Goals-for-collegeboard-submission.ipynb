{
 "cells": [
  {
   "cell_type": "markdown",
   "metadata": {},
   "source": [
    "---\n",
    "comments: true\n",
    "layout: post\n",
    "title: Plans for features for collegeboard submission\n",
    "description: Prep\n",
    "type: collab\n",
    "courses: { csp: {week: 42} }\n",
    "---"
   ]
  },
  {
   "cell_type": "markdown",
   "metadata": {},
   "source": [
    "## Sequencing, iteration, and selection feature ideas\n",
    "\n",
    "- I'm missing a function that does this\n",
    "\n",
    "- **Ideas**\n",
    "\n",
    "    - Search filter to search messages that are typed\n",
    "\n",
    "    - Feature to search through all the messages and see which user tped the most messages\n",
    "\n",
    "## Presentability\n",
    "\n",
    "- My color scheme looks good and I have a nice background\n",
    "\n",
    "- My main feature, the chatroom, doesn't match the full color scheme of the project"
   ]
  }
 ],
 "metadata": {
  "language_info": {
   "name": "python"
  }
 },
 "nbformat": 4,
 "nbformat_minor": 2
}
